{
  "nbformat": 4,
  "nbformat_minor": 0,
  "metadata": {
    "colab": {
      "name": "nsga_.ipynb",
      "provenance": [],
      "authorship_tag": "ABX9TyNvGYVtMG4e/XuSTYw0peT5",
      "include_colab_link": true
    },
    "kernelspec": {
      "name": "python3",
      "display_name": "Python 3"
    },
    "language_info": {
      "name": "python"
    },
    "accelerator": "GPU",
    "gpuClass": "standard"
  },
  "cells": [
    {
      "cell_type": "markdown",
      "metadata": {
        "id": "view-in-github",
        "colab_type": "text"
      },
      "source": [
        "<a href=\"https://colab.research.google.com/github/hserkan/Programming/blob/master/nsga_.ipynb\" target=\"_parent\"><img src=\"https://colab.research.google.com/assets/colab-badge.svg\" alt=\"Open In Colab\"/></a>"
      ]
    },
    {
      "cell_type": "code",
      "execution_count": null,
      "metadata": {
        "colab": {
          "base_uri": "https://localhost:8080/"
        },
        "id": "54Y85-CqaePg",
        "outputId": "4a1b27fe-bdc2-4a25-9ea7-02f9d37b75c3"
      },
      "outputs": [
        {
          "output_type": "stream",
          "name": "stdout",
          "text": [
            "Cloning into 'nsga-net'...\n",
            "remote: Enumerating objects: 515, done.\u001b[K\n",
            "remote: Counting objects: 100% (15/15), done.\u001b[K\n",
            "remote: Compressing objects: 100% (8/8), done.\u001b[K\n",
            "remote: Total 515 (delta 9), reused 7 (delta 7), pack-reused 500\u001b[K\n",
            "Receiving objects: 100% (515/515), 14.56 MiB | 10.69 MiB/s, done.\n",
            "Resolving deltas: 100% (241/241), done.\n"
          ]
        }
      ],
      "source": [
        "import torch\n",
        "import torch.nn as nn\n",
        "\n",
        "!git clone https://github.com/hserkan/nsga-net "
      ]
    },
    {
      "cell_type": "code",
      "source": [
        "%cd /content/nsga-net\n",
        "%ls -al"
      ],
      "metadata": {
        "colab": {
          "base_uri": "https://localhost:8080/"
        },
        "id": "9AKCZEuIa_C3",
        "outputId": "a75d0663-8139-42d7-aca9-b3ddc03c9dd1"
      },
      "execution_count": null,
      "outputs": [
        {
          "output_type": "stream",
          "name": "stdout",
          "text": [
            "/content/nsga-net\n",
            "total 13320\n",
            "drwxr-xr-x 9 root root     4096 Jun 22 23:06 \u001b[0m\u001b[01;34m.\u001b[0m/\n",
            "drwxr-xr-x 1 root root     4096 Jun 22 23:06 \u001b[01;34m..\u001b[0m/\n",
            "drwxr-xr-x 8 root root     4096 Jun 22 23:06 \u001b[01;34m.git\u001b[0m/\n",
            "-rw-r--r-- 1 root root     1356 Jun 22 23:06 .gitignore\n",
            "drwxr-xr-x 2 root root     4096 Jun 22 23:06 \u001b[01;34mimg\u001b[0m/\n",
            "-rw-r--r-- 1 root root 13589748 Jun 22 23:06 macro-weights.pt\n",
            "drwxr-xr-x 2 root root     4096 Jun 22 23:06 \u001b[01;34mmisc\u001b[0m/\n",
            "drwxr-xr-x 2 root root     4096 Jun 22 23:06 \u001b[01;34mmodels\u001b[0m/\n",
            "-rw-r--r-- 1 root root     5945 Jun 22 23:06 README.md\n",
            "drwxr-xr-x 2 root root     4096 Jun 22 23:06 \u001b[01;34msearch\u001b[0m/\n",
            "drwxr-xr-x 2 root root     4096 Jun 22 23:06 \u001b[01;34mvalidation\u001b[0m/\n",
            "drwxr-xr-x 2 root root     4096 Jun 22 23:06 \u001b[01;34mvisualization\u001b[0m/\n"
          ]
        }
      ]
    },
    {
      "cell_type": "code",
      "source": [
        "!git pull"
      ],
      "metadata": {
        "colab": {
          "base_uri": "https://localhost:8080/"
        },
        "id": "5EitDgoSbOCk",
        "outputId": "1570f334-ffb7-4a05-e98d-723e6556460d"
      },
      "execution_count": null,
      "outputs": [
        {
          "output_type": "stream",
          "name": "stdout",
          "text": [
            "Already up to date.\n"
          ]
        }
      ]
    },
    {
      "cell_type": "code",
      "source": [
        "!pip3 install torch torchvision  --extra-index-url https://download.pytorch.org/whl/cu113"
      ],
      "metadata": {
        "colab": {
          "base_uri": "https://localhost:8080/"
        },
        "id": "7xkqpOqObPSp",
        "outputId": "330f47c8-a9ed-4890-eef1-3f5c688b7b23"
      },
      "execution_count": null,
      "outputs": [
        {
          "output_type": "stream",
          "name": "stdout",
          "text": [
            "Looking in indexes: https://pypi.org/simple, https://us-python.pkg.dev/colab-wheels/public/simple/, https://download.pytorch.org/whl/cu113\n",
            "Requirement already satisfied: torch in /usr/local/lib/python3.7/dist-packages (1.11.0+cu113)\n",
            "Requirement already satisfied: torchvision in /usr/local/lib/python3.7/dist-packages (0.12.0+cu113)\n",
            "Requirement already satisfied: typing-extensions in /usr/local/lib/python3.7/dist-packages (from torch) (4.1.1)\n",
            "Requirement already satisfied: numpy in /usr/local/lib/python3.7/dist-packages (from torchvision) (1.21.6)\n",
            "Requirement already satisfied: requests in /usr/local/lib/python3.7/dist-packages (from torchvision) (2.23.0)\n",
            "Requirement already satisfied: pillow!=8.3.*,>=5.3.0 in /usr/local/lib/python3.7/dist-packages (from torchvision) (7.1.2)\n",
            "Requirement already satisfied: chardet<4,>=3.0.2 in /usr/local/lib/python3.7/dist-packages (from requests->torchvision) (3.0.4)\n",
            "Requirement already satisfied: idna<3,>=2.5 in /usr/local/lib/python3.7/dist-packages (from requests->torchvision) (2.10)\n",
            "Requirement already satisfied: urllib3!=1.25.0,!=1.25.1,<1.26,>=1.21.1 in /usr/local/lib/python3.7/dist-packages (from requests->torchvision) (1.24.3)\n",
            "Requirement already satisfied: certifi>=2017.4.17 in /usr/local/lib/python3.7/dist-packages (from requests->torchvision) (2022.6.15)\n"
          ]
        }
      ]
    },
    {
      "cell_type": "code",
      "source": [
        "!pip3 install hls4ml"
      ],
      "metadata": {
        "colab": {
          "base_uri": "https://localhost:8080/"
        },
        "id": "_q_0d1I6bk2Z",
        "outputId": "538658f6-e41b-4ca1-be45-51e588f4a463"
      },
      "execution_count": null,
      "outputs": [
        {
          "output_type": "stream",
          "name": "stdout",
          "text": [
            "Looking in indexes: https://pypi.org/simple, https://us-python.pkg.dev/colab-wheels/public/simple/\n",
            "Requirement already satisfied: hls4ml in /usr/local/lib/python3.7/dist-packages (0.6.0)\n",
            "Requirement already satisfied: pyyaml in /usr/local/lib/python3.7/dist-packages (from hls4ml) (3.13)\n",
            "Requirement already satisfied: six in /usr/local/lib/python3.7/dist-packages (from hls4ml) (1.15.0)\n",
            "Requirement already satisfied: numpy in /usr/local/lib/python3.7/dist-packages (from hls4ml) (1.21.6)\n",
            "Requirement already satisfied: onnx>=1.4.0 in /usr/local/lib/python3.7/dist-packages (from hls4ml) (1.12.0)\n",
            "Requirement already satisfied: h5py in /usr/local/lib/python3.7/dist-packages (from hls4ml) (3.1.0)\n",
            "Requirement already satisfied: protobuf<=3.20.1,>=3.12.2 in /usr/local/lib/python3.7/dist-packages (from onnx>=1.4.0->hls4ml) (3.17.3)\n",
            "Requirement already satisfied: typing-extensions>=3.6.2.1 in /usr/local/lib/python3.7/dist-packages (from onnx>=1.4.0->hls4ml) (4.1.1)\n",
            "Requirement already satisfied: cached-property in /usr/local/lib/python3.7/dist-packages (from h5py->hls4ml) (1.5.2)\n"
          ]
        }
      ]
    },
    {
      "cell_type": "code",
      "source": [
        "model_type = 'pytorch'\n",
        "model_config = 'PytorchModel'"
      ],
      "metadata": {
        "id": "WbfVEoF3dHPb"
      },
      "execution_count": null,
      "outputs": []
    },
    {
      "cell_type": "code",
      "source": [
        "model = torch.load(\"macro-weights.pt\")"
      ],
      "metadata": {
        "id": "1O1DqlY-dI9j"
      },
      "execution_count": null,
      "outputs": []
    },
    {
      "cell_type": "code",
      "source": [
        "model['model.0.first_conv.weight'].size()"
      ],
      "metadata": {
        "colab": {
          "base_uri": "https://localhost:8080/"
        },
        "id": "g9I04IuRdumH",
        "outputId": "e34e6c33-e143-4756-dbe9-4423e07d0d0e"
      },
      "execution_count": null,
      "outputs": [
        {
          "output_type": "execute_result",
          "data": {
            "text/plain": [
              "torch.Size([128, 3, 3, 3])"
            ]
          },
          "metadata": {},
          "execution_count": 32
        }
      ]
    },
    {
      "cell_type": "code",
      "source": [
        "print(\"Model's OrderedDict:\")\n",
        "for param_tensor in model:\n",
        "  print(param_tensor) #, \"\\t\", model.state_dict()[param_tensor].size())"
      ],
      "metadata": {
        "colab": {
          "base_uri": "https://localhost:8080/"
        },
        "id": "qOft1Juhg1LK",
        "outputId": "ee7356a2-17a4-4796-a2a0-5e408c47176e"
      },
      "execution_count": null,
      "outputs": [
        {
          "output_type": "stream",
          "name": "stdout",
          "text": [
            "Model's OrderedDict:\n",
            "model.0.first_conv.weight\n",
            "model.0.last_conv.weight\n",
            "model.0.nodes.0.model.0.weight\n",
            "model.0.nodes.0.model.0.bias\n",
            "model.0.nodes.0.model.0.running_mean\n",
            "model.0.nodes.0.model.0.running_var\n",
            "model.0.nodes.0.model.0.num_batches_tracked\n",
            "model.0.nodes.0.model.2.weight\n",
            "model.0.nodes.0.model.3.weight\n",
            "model.0.nodes.0.model.3.bias\n",
            "model.0.nodes.0.model.3.running_mean\n",
            "model.0.nodes.0.model.3.running_var\n",
            "model.0.nodes.0.model.3.num_batches_tracked\n",
            "model.0.nodes.0.model.5.weight\n",
            "model.0.nodes.1.model.0.weight\n",
            "model.0.nodes.1.model.0.bias\n",
            "model.0.nodes.1.model.0.running_mean\n",
            "model.0.nodes.1.model.0.running_var\n",
            "model.0.nodes.1.model.0.num_batches_tracked\n",
            "model.0.nodes.1.model.2.weight\n",
            "model.0.nodes.1.model.3.weight\n",
            "model.0.nodes.1.model.3.bias\n",
            "model.0.nodes.1.model.3.running_mean\n",
            "model.0.nodes.1.model.3.running_var\n",
            "model.0.nodes.1.model.3.num_batches_tracked\n",
            "model.0.nodes.1.model.5.weight\n",
            "model.0.nodes.2.model.0.weight\n",
            "model.0.nodes.2.model.0.bias\n",
            "model.0.nodes.2.model.0.running_mean\n",
            "model.0.nodes.2.model.0.running_var\n",
            "model.0.nodes.2.model.0.num_batches_tracked\n",
            "model.0.nodes.2.model.2.weight\n",
            "model.0.nodes.2.model.3.weight\n",
            "model.0.nodes.2.model.3.bias\n",
            "model.0.nodes.2.model.3.running_mean\n",
            "model.0.nodes.2.model.3.running_var\n",
            "model.0.nodes.2.model.3.num_batches_tracked\n",
            "model.0.nodes.2.model.5.weight\n",
            "model.0.nodes.3.model.0.weight\n",
            "model.0.nodes.3.model.0.bias\n",
            "model.0.nodes.3.model.0.running_mean\n",
            "model.0.nodes.3.model.0.running_var\n",
            "model.0.nodes.3.model.0.num_batches_tracked\n",
            "model.0.nodes.3.model.2.weight\n",
            "model.0.nodes.3.model.3.weight\n",
            "model.0.nodes.3.model.3.bias\n",
            "model.0.nodes.3.model.3.running_mean\n",
            "model.0.nodes.3.model.3.running_var\n",
            "model.0.nodes.3.model.3.num_batches_tracked\n",
            "model.0.nodes.3.model.5.weight\n",
            "model.0.nodes.4.model.0.weight\n",
            "model.0.nodes.4.model.0.bias\n",
            "model.0.nodes.4.model.0.running_mean\n",
            "model.0.nodes.4.model.0.running_var\n",
            "model.0.nodes.4.model.0.num_batches_tracked\n",
            "model.0.nodes.4.model.2.weight\n",
            "model.0.nodes.4.model.3.weight\n",
            "model.0.nodes.4.model.3.bias\n",
            "model.0.nodes.4.model.3.running_mean\n",
            "model.0.nodes.4.model.3.running_var\n",
            "model.0.nodes.4.model.3.num_batches_tracked\n",
            "model.0.nodes.4.model.5.weight\n",
            "model.0.nodes.5.model.0.weight\n",
            "model.0.nodes.5.model.0.bias\n",
            "model.0.nodes.5.model.0.running_mean\n",
            "model.0.nodes.5.model.0.running_var\n",
            "model.0.nodes.5.model.0.num_batches_tracked\n",
            "model.0.nodes.5.model.2.weight\n",
            "model.0.nodes.5.model.3.weight\n",
            "model.0.nodes.5.model.3.bias\n",
            "model.0.nodes.5.model.3.running_mean\n",
            "model.0.nodes.5.model.3.running_var\n",
            "model.0.nodes.5.model.3.num_batches_tracked\n",
            "model.0.nodes.5.model.5.weight\n",
            "model.0.out.0.weight\n",
            "model.0.out.1.weight\n",
            "model.0.out.1.bias\n",
            "model.0.out.1.running_mean\n",
            "model.0.out.1.running_var\n",
            "model.0.out.1.num_batches_tracked\n",
            "model.2.first_conv.weight\n",
            "model.2.last_conv.weight\n",
            "model.2.nodes.0.model.0.weight\n",
            "model.2.nodes.0.model.0.bias\n",
            "model.2.nodes.0.model.0.running_mean\n",
            "model.2.nodes.0.model.0.running_var\n",
            "model.2.nodes.0.model.0.num_batches_tracked\n",
            "model.2.nodes.0.model.2.weight\n",
            "model.2.nodes.0.model.3.weight\n",
            "model.2.nodes.0.model.3.bias\n",
            "model.2.nodes.0.model.3.running_mean\n",
            "model.2.nodes.0.model.3.running_var\n",
            "model.2.nodes.0.model.3.num_batches_tracked\n",
            "model.2.nodes.0.model.5.weight\n",
            "model.2.nodes.1.model.0.weight\n",
            "model.2.nodes.1.model.0.bias\n",
            "model.2.nodes.1.model.0.running_mean\n",
            "model.2.nodes.1.model.0.running_var\n",
            "model.2.nodes.1.model.0.num_batches_tracked\n",
            "model.2.nodes.1.model.2.weight\n",
            "model.2.nodes.1.model.3.weight\n",
            "model.2.nodes.1.model.3.bias\n",
            "model.2.nodes.1.model.3.running_mean\n",
            "model.2.nodes.1.model.3.running_var\n",
            "model.2.nodes.1.model.3.num_batches_tracked\n",
            "model.2.nodes.1.model.5.weight\n",
            "model.2.nodes.2.model.0.weight\n",
            "model.2.nodes.2.model.0.bias\n",
            "model.2.nodes.2.model.0.running_mean\n",
            "model.2.nodes.2.model.0.running_var\n",
            "model.2.nodes.2.model.0.num_batches_tracked\n",
            "model.2.nodes.2.model.2.weight\n",
            "model.2.nodes.2.model.3.weight\n",
            "model.2.nodes.2.model.3.bias\n",
            "model.2.nodes.2.model.3.running_mean\n",
            "model.2.nodes.2.model.3.running_var\n",
            "model.2.nodes.2.model.3.num_batches_tracked\n",
            "model.2.nodes.2.model.5.weight\n",
            "model.2.nodes.3.model.0.weight\n",
            "model.2.nodes.3.model.0.bias\n",
            "model.2.nodes.3.model.0.running_mean\n",
            "model.2.nodes.3.model.0.running_var\n",
            "model.2.nodes.3.model.0.num_batches_tracked\n",
            "model.2.nodes.3.model.2.weight\n",
            "model.2.nodes.3.model.3.weight\n",
            "model.2.nodes.3.model.3.bias\n",
            "model.2.nodes.3.model.3.running_mean\n",
            "model.2.nodes.3.model.3.running_var\n",
            "model.2.nodes.3.model.3.num_batches_tracked\n",
            "model.2.nodes.3.model.5.weight\n",
            "model.2.nodes.4.model.0.weight\n",
            "model.2.nodes.4.model.0.bias\n",
            "model.2.nodes.4.model.0.running_mean\n",
            "model.2.nodes.4.model.0.running_var\n",
            "model.2.nodes.4.model.0.num_batches_tracked\n",
            "model.2.nodes.4.model.2.weight\n",
            "model.2.nodes.4.model.3.weight\n",
            "model.2.nodes.4.model.3.bias\n",
            "model.2.nodes.4.model.3.running_mean\n",
            "model.2.nodes.4.model.3.running_var\n",
            "model.2.nodes.4.model.3.num_batches_tracked\n",
            "model.2.nodes.4.model.5.weight\n",
            "model.2.nodes.5.model.0.weight\n",
            "model.2.nodes.5.model.0.bias\n",
            "model.2.nodes.5.model.0.running_mean\n",
            "model.2.nodes.5.model.0.running_var\n",
            "model.2.nodes.5.model.0.num_batches_tracked\n",
            "model.2.nodes.5.model.2.weight\n",
            "model.2.nodes.5.model.3.weight\n",
            "model.2.nodes.5.model.3.bias\n",
            "model.2.nodes.5.model.3.running_mean\n",
            "model.2.nodes.5.model.3.running_var\n",
            "model.2.nodes.5.model.3.num_batches_tracked\n",
            "model.2.nodes.5.model.5.weight\n",
            "model.2.out.0.weight\n",
            "model.2.out.1.weight\n",
            "model.2.out.1.bias\n",
            "model.2.out.1.running_mean\n",
            "model.2.out.1.running_var\n",
            "model.2.out.1.num_batches_tracked\n",
            "model.4.first_conv.weight\n",
            "model.4.last_conv.weight\n",
            "model.4.nodes.0.model.0.weight\n",
            "model.4.nodes.0.model.0.bias\n",
            "model.4.nodes.0.model.0.running_mean\n",
            "model.4.nodes.0.model.0.running_var\n",
            "model.4.nodes.0.model.0.num_batches_tracked\n",
            "model.4.nodes.0.model.2.weight\n",
            "model.4.nodes.0.model.3.weight\n",
            "model.4.nodes.0.model.3.bias\n",
            "model.4.nodes.0.model.3.running_mean\n",
            "model.4.nodes.0.model.3.running_var\n",
            "model.4.nodes.0.model.3.num_batches_tracked\n",
            "model.4.nodes.0.model.5.weight\n",
            "model.4.nodes.1.model.0.weight\n",
            "model.4.nodes.1.model.0.bias\n",
            "model.4.nodes.1.model.0.running_mean\n",
            "model.4.nodes.1.model.0.running_var\n",
            "model.4.nodes.1.model.0.num_batches_tracked\n",
            "model.4.nodes.1.model.2.weight\n",
            "model.4.nodes.1.model.3.weight\n",
            "model.4.nodes.1.model.3.bias\n",
            "model.4.nodes.1.model.3.running_mean\n",
            "model.4.nodes.1.model.3.running_var\n",
            "model.4.nodes.1.model.3.num_batches_tracked\n",
            "model.4.nodes.1.model.5.weight\n",
            "model.4.nodes.2.model.0.weight\n",
            "model.4.nodes.2.model.0.bias\n",
            "model.4.nodes.2.model.0.running_mean\n",
            "model.4.nodes.2.model.0.running_var\n",
            "model.4.nodes.2.model.0.num_batches_tracked\n",
            "model.4.nodes.2.model.2.weight\n",
            "model.4.nodes.2.model.3.weight\n",
            "model.4.nodes.2.model.3.bias\n",
            "model.4.nodes.2.model.3.running_mean\n",
            "model.4.nodes.2.model.3.running_var\n",
            "model.4.nodes.2.model.3.num_batches_tracked\n",
            "model.4.nodes.2.model.5.weight\n",
            "model.4.nodes.3.model.0.weight\n",
            "model.4.nodes.3.model.0.bias\n",
            "model.4.nodes.3.model.0.running_mean\n",
            "model.4.nodes.3.model.0.running_var\n",
            "model.4.nodes.3.model.0.num_batches_tracked\n",
            "model.4.nodes.3.model.2.weight\n",
            "model.4.nodes.3.model.3.weight\n",
            "model.4.nodes.3.model.3.bias\n",
            "model.4.nodes.3.model.3.running_mean\n",
            "model.4.nodes.3.model.3.running_var\n",
            "model.4.nodes.3.model.3.num_batches_tracked\n",
            "model.4.nodes.3.model.5.weight\n",
            "model.4.nodes.4.model.0.weight\n",
            "model.4.nodes.4.model.0.bias\n",
            "model.4.nodes.4.model.0.running_mean\n",
            "model.4.nodes.4.model.0.running_var\n",
            "model.4.nodes.4.model.0.num_batches_tracked\n",
            "model.4.nodes.4.model.2.weight\n",
            "model.4.nodes.4.model.3.weight\n",
            "model.4.nodes.4.model.3.bias\n",
            "model.4.nodes.4.model.3.running_mean\n",
            "model.4.nodes.4.model.3.running_var\n",
            "model.4.nodes.4.model.3.num_batches_tracked\n",
            "model.4.nodes.4.model.5.weight\n",
            "model.4.nodes.5.model.0.weight\n",
            "model.4.nodes.5.model.0.bias\n",
            "model.4.nodes.5.model.0.running_mean\n",
            "model.4.nodes.5.model.0.running_var\n",
            "model.4.nodes.5.model.0.num_batches_tracked\n",
            "model.4.nodes.5.model.2.weight\n",
            "model.4.nodes.5.model.3.weight\n",
            "model.4.nodes.5.model.3.bias\n",
            "model.4.nodes.5.model.3.running_mean\n",
            "model.4.nodes.5.model.3.running_var\n",
            "model.4.nodes.5.model.3.num_batches_tracked\n",
            "model.4.nodes.5.model.5.weight\n",
            "model.4.out.0.weight\n",
            "model.4.out.1.weight\n",
            "model.4.out.1.bias\n",
            "model.4.out.1.running_mean\n",
            "model.4.out.1.running_var\n",
            "model.4.out.1.num_batches_tracked\n",
            "linear.weight\n",
            "linear.bias\n"
          ]
        }
      ]
    },
    {
      "cell_type": "code",
      "source": [
        ""
      ],
      "metadata": {
        "id": "qXfEyYzXg-9R"
      },
      "execution_count": null,
      "outputs": []
    },
    {
      "cell_type": "code",
      "source": [
        "!python validation/train.py --net_type macro --cutout --batch_size 128 --epochs 350 "
      ],
      "metadata": {
        "colab": {
          "base_uri": "https://localhost:8080/"
        },
        "id": "XQlW5wiWyShW",
        "outputId": "bb0660d7-77e4-41bd-9e18-69cfc273d75d"
      },
      "execution_count": null,
      "outputs": [
        {
          "output_type": "stream",
          "name": "stdout",
          "text": [
            "Experiment dir : train-EXP-20220622-232613\n",
            "06/22 11:26:13 PM args = Namespace(SE=False, arch='NSGANet', auxiliary=False, auxiliary_weight=0.4, batch_size=128, cutout=True, cutout_length=16, data='../data', droprate=0, epochs=350, filter_increment=4, grad_clip=5, init_channels=32, layers=20, learning_rate=0.025, min_learning_rate=0.0, momentum=0.9, net_type='macro', report_freq=50, save='train-EXP-20220622-232613', seed=0, weight_decay=0.0003)\n",
            "Files already downloaded and verified\n",
            "Files already downloaded and verified\n",
            "06/22 11:26:14 PM param size = 3.370250MB\n",
            "/usr/local/lib/python3.7/dist-packages/torch/optim/lr_scheduler.py:136: UserWarning: Detected call of `lr_scheduler.step()` before `optimizer.step()`. In PyTorch 1.1.0 and later, you should call them in the opposite order: `optimizer.step()` before `lr_scheduler.step()`.  Failure to do this will result in PyTorch skipping the first value of the learning rate schedule. See more details at https://pytorch.org/docs/stable/optim.html#how-to-adjust-learning-rate\n",
            "  \"https://pytorch.org/docs/stable/optim.html#how-to-adjust-learning-rate\", UserWarning)\n",
            "/usr/local/lib/python3.7/dist-packages/torch/optim/lr_scheduler.py:729: UserWarning: To get the last learning rate computed by the scheduler, please use `get_last_lr()`.\n",
            "  \"please use `get_last_lr()`.\", UserWarning)\n",
            "06/22 11:26:18 PM epoch 0 lr 2.499899e-02\n",
            "06/22 11:26:19 PM train 000 1.789439e-02 12.500000\n",
            "06/22 11:26:33 PM train 050 1.599438e-02 21.599265\n",
            "06/22 11:26:46 PM train 100 1.505705e-02 26.121597\n",
            "06/22 11:27:00 PM train 150 1.442586e-02 29.465025\n"
          ]
        }
      ]
    },
    {
      "cell_type": "code",
      "source": [
        "!git pull\n"
      ],
      "metadata": {
        "colab": {
          "base_uri": "https://localhost:8080/"
        },
        "id": "TOny71DWu2u7",
        "outputId": "2dc29df0-c238-4c6a-d826-5db9f3dc0a69"
      },
      "execution_count": 37,
      "outputs": [
        {
          "output_type": "stream",
          "name": "stdout",
          "text": [
            "remote: Enumerating objects: 4, done.\u001b[K\n",
            "remote: Counting objects:  25% (1/4)\u001b[K\rremote: Counting objects:  50% (2/4)\u001b[K\rremote: Counting objects:  75% (3/4)\u001b[K\rremote: Counting objects: 100% (4/4)\u001b[K\rremote: Counting objects: 100% (4/4), done.\u001b[K\n",
            "remote: Compressing objects:  50% (1/2)\u001b[K\rremote: Compressing objects: 100% (2/2)\u001b[K\rremote: Compressing objects: 100% (2/2), done.\u001b[K\n",
            "remote: Total 4 (delta 2), reused 4 (delta 2), pack-reused 0\u001b[K\n",
            "Unpacking objects:  25% (1/4)   \rUnpacking objects:  50% (2/4)   \rUnpacking objects:  75% (3/4)   \rUnpacking objects: 100% (4/4)   \rUnpacking objects: 100% (4/4), done.\n",
            "From https://github.com/hserkan/nsga-net\n",
            "   01c9d28..c742e7f  master     -> origin/master\n",
            "Updating 01c9d28..c742e7f\n",
            "Fast-forward\n",
            " validation/train.py | 2 \u001b[32m+\u001b[m\u001b[31m-\u001b[m\n",
            " 1 file changed, 1 insertion(+), 1 deletion(-)\n"
          ]
        }
      ]
    }
  ]
}